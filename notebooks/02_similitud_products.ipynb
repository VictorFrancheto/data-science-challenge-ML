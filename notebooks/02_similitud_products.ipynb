{
 "cells": [
  {
   "cell_type": "markdown",
   "metadata": {},
   "source": [
    "# Similitud entre productos\n",
    "\n",
    "\n",
    "El objetivo del desafío es poder generar una Jupyter notebook que determine cuán similares son dos títulos del dataset **item_titles_test.csv** generando como output un listado de la forma:\n",
    "\n",
    "| ITE_ITEM_TITLE   | ITE_ITEM_TITLE    | Score Similitud (0,1) |\n",
    "|------------------|-------------------|-----------------------:|\n",
    "| Zapatillas Nike  | Zapatillas Adidas |                    0.5 |\n",
    "| Zapatillas Nike  | Zapatillas Nike   |                    1.0 |\n",
    "\n",
    "donde ordenando por score de similitud podamos encontrar los pares de productos más similares en nuestro dataset de test.\n",
    "\n",
    "Considere el tiempo de ejecución y analice si la solución es escalable, mostrando el tiempo de ejecución en función del tamaño de la lista a procesar.\n",
    "\n",
    "**🚨 Obs:** Para este ejercicio, no utilice modelos previamente entrenados.\n",
    "\n",
    "----------\n",
    "----------\n",
    "\n",
    "**Estructura del notebook**\n",
    "\n",
    "* **Parte 1**: Definición de las funciones que se utilizarán a lo largo del análisis.\n",
    "* **Parte 2**: Limpieza, normalización y análisis de los textos del archivo `items_titles.csv`, incluyendo la tokenización y la generación de embeddings.\n",
    "* **Parte 3**: Evaluación del rendimiento del algoritmo y presentación de las similitudes encontradas, considerando el tiempo de ejecución en función del tamaño del dataset.\n",
    "* **Parte 4**: Construcción de un pipeline para identificar los productos más similares, integrando los pasos anteriores y analizando su eficiencia de ejecución.\n",
    "\n",
    "------\n",
    "-----"
   ]
  },
  {
   "cell_type": "markdown",
   "metadata": {},
   "source": [
    "## 📚 Importando Bibliotecas"
   ]
  },
  {
   "cell_type": "code",
   "execution_count": null,
   "metadata": {},
   "outputs": [
    {
     "name": "stderr",
     "output_type": "stream",
     "text": [
      "[nltk_data] Downloading package stopwords to\n",
      "[nltk_data]     C:\\Users\\victor.francheto\\AppData\\Roaming\\nltk_data...\n",
      "[nltk_data]   Package stopwords is already up-to-date!\n"
     ]
    },
    {
     "data": {
      "text/plain": [
       "True"
      ]
     },
     "execution_count": 1,
     "metadata": {},
     "output_type": "execute_result"
    }
   ],
   "source": [
    "import re\n",
    "import unicodedata\n",
    "import sparse \n",
    "from collections import Counter\n",
    "import pandas as pd\n",
    "import numpy as np\n",
    "import matplotlib.pyplot as plt\n",
    "import time\n",
    "import os\n",
    "import psutil\n",
    "from pathlib import Path\n",
    "\n",
    "\n",
    "# (PLN)\n",
    "import nltk\n",
    "from nltk.corpus import stopwords\n",
    "from nltk import ngrams\n",
    "\n",
    "# Vectorización y similitud\n",
    "from sklearn.feature_extraction.text import TfidfVectorizer\n",
    "from sklearn.metrics.pairwise import cosine_similarity\n",
    "from sklearn.decomposition import TruncatedSVD\n",
    "\n",
    "# Paralelización y progreso\n",
    "from joblib import Parallel, delayed\n",
    "from tqdm import tqdm\n",
    "\n",
    "nltk.download('stopwords')"
   ]
  },
  {
   "cell_type": "markdown",
   "metadata": {},
   "source": [
    "## ⚙️ Parte 1: Funciones Utilizadas\n",
    "\n",
    "Acá están todas las funciones usadas en el caso."
   ]
  },
  {
   "cell_type": "code",
   "execution_count": 7,
   "metadata": {},
   "outputs": [],
   "source": [
    "def preprocess_text(text, lowercase=True, remove_accents=True, remove_special_chars=False):\n",
    "    '''\n",
    "    Preprocesa el texto según las opciones indicadas.\n",
    "    \n",
    "    Parámetros:\n",
    "        text (str): Texto original.\n",
    "        lowercase (bool): Convertir a minúsculas.\n",
    "        remove_accents (bool): Eliminar acentos.\n",
    "        remove_special_chars (bool): Eliminar caracteres especiales.\n",
    "\n",
    "    Retorna:\n",
    "        str: Texto preprocesado.\n",
    "    '''\n",
    "    if lowercase:\n",
    "        text = text.lower()\n",
    "    \n",
    "    if remove_accents:\n",
    "        text = ''.join(\n",
    "            char for char in unicodedata.normalize('NFKD', text)\n",
    "            if not unicodedata.combining(char)\n",
    "        )\n",
    "    \n",
    "    if remove_special_chars:\n",
    "        text = re.sub(r'[^a-zA-Z0-9\\s]', '', text)\n",
    "    \n",
    "    return text\n",
    "\n",
    "#----------------------------------\n",
    "def tokenize_re(text):\n",
    "    '''\n",
    "    Tokeniza el texto utilizando expresiones regulares.\n",
    "\n",
    "    Divide el texto en palabras ignorando signos de puntuación\n",
    "    y considerando sólo secuencias alfanuméricas como tokens.\n",
    "\n",
    "    Parámetros:\n",
    "        text (str): Texto de entrada a tokenizar.\n",
    "\n",
    "    Retorna:\n",
    "        list: Lista de palabras (tokens) extraídas del texto.\n",
    "    '''\n",
    "    return re.findall(r'\\b\\w+\\b', text)\n",
    "\n",
    "#----------------------------------\n",
    "def get_most_common_words(token_column, top_n=10, min_word_length=1):\n",
    "    '''\n",
    "    Obtiene las palabras más frecuentes de una columna de tokens.\n",
    "\n",
    "    Parámetros:\n",
    "        token_column (iterable): Columna del DataFrame con listas de tokens.\n",
    "        top_n (int): Número de palabras más frecuentes a retornar.\n",
    "        min_word_length (int): Longitud mínima de palabra a considerar.\n",
    "\n",
    "    Retorna:\n",
    "        list: Lista de tuplas (palabra, frecuencia).\n",
    "    '''\n",
    "\n",
    "    all_words = [word for tokens in token_column for word in tokens if len(word) >= min_word_length]\n",
    "    word_counts = Counter(all_words)\n",
    "    return word_counts.most_common(top_n)\n",
    "\n",
    "#----------------------------------\n",
    "\n",
    "def generate_ngrams(tokens, n):\n",
    "    '''\n",
    "    Genera n-gramas a partir de una lista de tokens.\n",
    "\n",
    "    Un n-grama es una secuencia contigua de n elementos extraídos de una lista de palabras.\n",
    "\n",
    "    Parámetros:\n",
    "        tokens (list): Lista de palabras (tokens) del texto.\n",
    "        n (int): Tamaño del n-grama (por ejemplo, 2 para bigramas, 3 para trigramas, etc.).\n",
    "\n",
    "    Retorna:\n",
    "        list: Lista de tuplas que representan los n-gramas generados.\n",
    "    '''\n",
    "    return list(ngrams(tokens, n))\n",
    "\n",
    "#----------------------------------\n",
    "\n",
    "def remove_multilang_stopwords(tokens):\n",
    "    '''\n",
    "    Elimina stop-words de una lista de tokens.\n",
    "\n",
    "    Esta función filtra aquellas palabras que están incluidas en una lista predefinida\n",
    "    de stop-words (en este caso, en portugués), eliminando términos muy comunes que \n",
    "    no aportan valor semántico significativo al análisis.\n",
    "\n",
    "    Parámetros:\n",
    "        tokens (list): Lista de palabras (tokens) a filtrar.\n",
    "\n",
    "    Retorna:\n",
    "        list: Lista de tokens sin las stop-words.\n",
    "    '''\n",
    "    return [word for word in tokens if word not in stop_words_pt]\n",
    "\n",
    "#----------------------------------\n",
    "\n",
    "def calculate_similarities_batch(df, batch_size=500, threshold=0.5, max_features=5000, min_df=2, n_components=100):\n",
    "    '''\n",
    "    Args:\n",
    "        df (pd.DataFrame): DataFrame con la columna 'title' de los títulos.\n",
    "        batch_size (int): Tamaño de cada lote a procesar.\n",
    "        threshold (float): Umbral mínimo de similitud para incluir el par.\n",
    "        max_features (int): Máximo de features para el TF-IDF.\n",
    "        min_df (int): Frecuencia mínima de término para TF-IDF.\n",
    "        n_components (int): Nº de componentes para SVD si se aplica reducción.\n",
    "\n",
    "    Returns:\n",
    "        pd.DataFrame: DataFrame con columnas ['title_1', 'title_2', 'score_similitud'] \n",
    "                      ordenado por score_similitud descendente.\n",
    "    '''\n",
    "    # Preparar títulos e vectorizadores\n",
    "    titles = df['title'].tolist()\n",
    "    vectorizer = TfidfVectorizer(max_features=max_features, min_df=min_df)\n",
    "\n",
    "    print(\"Vectorizando...\")\n",
    "    X_tfidf = vectorizer.fit_transform(titles)\n",
    "\n",
    "    # Reducción opcional de dimensionalidad\n",
    "    if X_tfidf.shape[1] > n_components:\n",
    "        print(\"Aplicando reducción de dimensionalidad...\")\n",
    "        svd = TruncatedSVD(n_components=min(n_components, X_tfidf.shape[1]-1))\n",
    "        X_reduced = svd.fit_transform(X_tfidf)\n",
    "    else:\n",
    "        X_reduced = X_tfidf.toarray()\n",
    "\n",
    "    n = len(titles)\n",
    "    results = []\n",
    "\n",
    "    print('Similitudes por lotes...')\n",
    "    for start in tqdm(range(0, n, batch_size)):\n",
    "        end = min(start + batch_size, n)\n",
    "        block = X_reduced[start:end]\n",
    "        \n",
    "        # matriz de similitudes batch x all\n",
    "        sims = cosine_similarity(block, X_reduced)\n",
    "        \n",
    "        # encontra todas as posições acima do threshold\n",
    "        rows, cols = np.where(sims > threshold)\n",
    "        for r, c in zip(rows, cols):\n",
    "            abs_r = start + r\n",
    "            if c > abs_r:  # só metade superior\n",
    "                results.append([\n",
    "                    titles[abs_r],\n",
    "                    titles[c],\n",
    "                    sims[r, c]\n",
    "                ])\n",
    "\n",
    "    sim_df = pd.DataFrame(results, columns=['title_1', 'title_2', 'score_similitud'])\n",
    "    return sim_df.sort_values('score_similitud', ascending=False).reset_index(drop=True)\n",
    "\n"
   ]
  },
  {
   "cell_type": "markdown",
   "metadata": {},
   "source": [
    "## 🧩 Parte 2: Limpieza, Normalización y Análisis de los Textos"
   ]
  },
  {
   "cell_type": "code",
   "execution_count": null,
   "metadata": {},
   "outputs": [
    {
     "data": {
      "text/html": [
       "<div>\n",
       "<style scoped>\n",
       "    .dataframe tbody tr th:only-of-type {\n",
       "        vertical-align: middle;\n",
       "    }\n",
       "\n",
       "    .dataframe tbody tr th {\n",
       "        vertical-align: top;\n",
       "    }\n",
       "\n",
       "    .dataframe thead th {\n",
       "        text-align: right;\n",
       "    }\n",
       "</style>\n",
       "<table border=\"1\" class=\"dataframe\">\n",
       "  <thead>\n",
       "    <tr style=\"text-align: right;\">\n",
       "      <th></th>\n",
       "      <th>ITE_ITEM_TITLE</th>\n",
       "    </tr>\n",
       "  </thead>\n",
       "  <tbody>\n",
       "    <tr>\n",
       "      <th>29995</th>\n",
       "      <td>Tênis Vans Old Skool I Love My Vans - Usado - ...</td>\n",
       "    </tr>\n",
       "    <tr>\n",
       "      <th>29996</th>\n",
       "      <td>Tênis Feminino Preto Moleca 5296155</td>\n",
       "    </tr>\n",
       "    <tr>\n",
       "      <th>29997</th>\n",
       "      <td>Tenis Botinha Com Pelo Via Marte Original Lanç...</td>\n",
       "    </tr>\n",
       "    <tr>\n",
       "      <th>29998</th>\n",
       "      <td>Tênis Slip On Feminino Masculino Original Sapa...</td>\n",
       "    </tr>\n",
       "    <tr>\n",
       "      <th>29999</th>\n",
       "      <td>Bicicleta Nathor Rosa Infantil Sem Pedal Balan...</td>\n",
       "    </tr>\n",
       "  </tbody>\n",
       "</table>\n",
       "</div>"
      ],
      "text/plain": [
       "                                          ITE_ITEM_TITLE\n",
       "29995  Tênis Vans Old Skool I Love My Vans - Usado - ...\n",
       "29996                Tênis Feminino Preto Moleca 5296155\n",
       "29997  Tenis Botinha Com Pelo Via Marte Original Lanç...\n",
       "29998  Tênis Slip On Feminino Masculino Original Sapa...\n",
       "29999  Bicicleta Nathor Rosa Infantil Sem Pedal Balan..."
      ]
     },
     "execution_count": 8,
     "metadata": {},
     "output_type": "execute_result"
    }
   ],
   "source": [
    "path = Path.cwd().parent / \"data\" / \"items_titles.csv\"\n",
    "#---\n",
    "df = pd.read_csv(path)\n",
    "df.tail()"
   ]
  },
  {
   "cell_type": "markdown",
   "metadata": {},
   "source": [
    "Primero, veamos si hay datos duplicados o nulos.\n"
   ]
  },
  {
   "cell_type": "code",
   "execution_count": 9,
   "metadata": {},
   "outputs": [
    {
     "name": "stdout",
     "output_type": "stream",
     "text": [
      "\n",
      "Número de títulos únicos: 30000\n"
     ]
    }
   ],
   "source": [
    "num_unique_titles = df['ITE_ITEM_TITLE'].nunique()\n",
    "df.rename(columns={'ITE_ITEM_TITLE': 'title'}, inplace=True)\n",
    "print(f\"\\nNúmero de títulos únicos: {num_unique_titles}\")"
   ]
  },
  {
   "cell_type": "markdown",
   "metadata": {},
   "source": [
    "#### Aplicar la limpieza a la columna `title`"
   ]
  },
  {
   "cell_type": "code",
   "execution_count": 10,
   "metadata": {},
   "outputs": [
    {
     "data": {
      "text/html": [
       "<div>\n",
       "<style scoped>\n",
       "    .dataframe tbody tr th:only-of-type {\n",
       "        vertical-align: middle;\n",
       "    }\n",
       "\n",
       "    .dataframe tbody tr th {\n",
       "        vertical-align: top;\n",
       "    }\n",
       "\n",
       "    .dataframe thead th {\n",
       "        text-align: right;\n",
       "    }\n",
       "</style>\n",
       "<table border=\"1\" class=\"dataframe\">\n",
       "  <thead>\n",
       "    <tr style=\"text-align: right;\">\n",
       "      <th></th>\n",
       "      <th>title</th>\n",
       "      <th>cleaned_title</th>\n",
       "    </tr>\n",
       "  </thead>\n",
       "  <tbody>\n",
       "    <tr>\n",
       "      <th>29995</th>\n",
       "      <td>Tênis Vans Old Skool I Love My Vans - Usado - ...</td>\n",
       "      <td>tenis vans old skool i love my vans - usado - ...</td>\n",
       "    </tr>\n",
       "    <tr>\n",
       "      <th>29996</th>\n",
       "      <td>Tênis Feminino Preto Moleca 5296155</td>\n",
       "      <td>tenis feminino preto moleca 5296155</td>\n",
       "    </tr>\n",
       "    <tr>\n",
       "      <th>29997</th>\n",
       "      <td>Tenis Botinha Com Pelo Via Marte Original Lanç...</td>\n",
       "      <td>tenis botinha com pelo via marte original lanc...</td>\n",
       "    </tr>\n",
       "    <tr>\n",
       "      <th>29998</th>\n",
       "      <td>Tênis Slip On Feminino Masculino Original Sapa...</td>\n",
       "      <td>tenis slip on feminino masculino original sapa...</td>\n",
       "    </tr>\n",
       "    <tr>\n",
       "      <th>29999</th>\n",
       "      <td>Bicicleta Nathor Rosa Infantil Sem Pedal Balan...</td>\n",
       "      <td>bicicleta nathor rosa infantil sem pedal balan...</td>\n",
       "    </tr>\n",
       "  </tbody>\n",
       "</table>\n",
       "</div>"
      ],
      "text/plain": [
       "                                                   title  \\\n",
       "29995  Tênis Vans Old Skool I Love My Vans - Usado - ...   \n",
       "29996                Tênis Feminino Preto Moleca 5296155   \n",
       "29997  Tenis Botinha Com Pelo Via Marte Original Lanç...   \n",
       "29998  Tênis Slip On Feminino Masculino Original Sapa...   \n",
       "29999  Bicicleta Nathor Rosa Infantil Sem Pedal Balan...   \n",
       "\n",
       "                                           cleaned_title  \n",
       "29995  tenis vans old skool i love my vans - usado - ...  \n",
       "29996                tenis feminino preto moleca 5296155  \n",
       "29997  tenis botinha com pelo via marte original lanc...  \n",
       "29998  tenis slip on feminino masculino original sapa...  \n",
       "29999  bicicleta nathor rosa infantil sem pedal balan...  "
      ]
     },
     "execution_count": 10,
     "metadata": {},
     "output_type": "execute_result"
    }
   ],
   "source": [
    "df['cleaned_title'] = df['title'].apply(preprocess_text)\n",
    "df.tail()"
   ]
  },
  {
   "cell_type": "markdown",
   "metadata": {},
   "source": [
    "En esta parte, hicimos la normalización de los títulos, convirtiendo los textos a minúsculas, sin acentos y sin signos de puntuación, para estandarizar los datos y facilitar los pasos siguientes de tokenización y comparación de similitud.\n"
   ]
  },
  {
   "cell_type": "markdown",
   "metadata": {},
   "source": [
    "#### Tokenización"
   ]
  },
  {
   "cell_type": "code",
   "execution_count": 11,
   "metadata": {},
   "outputs": [
    {
     "data": {
      "text/html": [
       "<div>\n",
       "<style scoped>\n",
       "    .dataframe tbody tr th:only-of-type {\n",
       "        vertical-align: middle;\n",
       "    }\n",
       "\n",
       "    .dataframe tbody tr th {\n",
       "        vertical-align: top;\n",
       "    }\n",
       "\n",
       "    .dataframe thead th {\n",
       "        text-align: right;\n",
       "    }\n",
       "</style>\n",
       "<table border=\"1\" class=\"dataframe\">\n",
       "  <thead>\n",
       "    <tr style=\"text-align: right;\">\n",
       "      <th></th>\n",
       "      <th>title</th>\n",
       "      <th>cleaned_title</th>\n",
       "      <th>tokens</th>\n",
       "    </tr>\n",
       "  </thead>\n",
       "  <tbody>\n",
       "    <tr>\n",
       "      <th>29995</th>\n",
       "      <td>Tênis Vans Old Skool I Love My Vans - Usado - ...</td>\n",
       "      <td>tenis vans old skool i love my vans - usado - ...</td>\n",
       "      <td>[tenis, vans, old, skool, i, love, my, vans, u...</td>\n",
       "    </tr>\n",
       "    <tr>\n",
       "      <th>29996</th>\n",
       "      <td>Tênis Feminino Preto Moleca 5296155</td>\n",
       "      <td>tenis feminino preto moleca 5296155</td>\n",
       "      <td>[tenis, feminino, preto, moleca, 5296155]</td>\n",
       "    </tr>\n",
       "    <tr>\n",
       "      <th>29997</th>\n",
       "      <td>Tenis Botinha Com Pelo Via Marte Original Lanç...</td>\n",
       "      <td>tenis botinha com pelo via marte original lanc...</td>\n",
       "      <td>[tenis, botinha, com, pelo, via, marte, origin...</td>\n",
       "    </tr>\n",
       "    <tr>\n",
       "      <th>29998</th>\n",
       "      <td>Tênis Slip On Feminino Masculino Original Sapa...</td>\n",
       "      <td>tenis slip on feminino masculino original sapa...</td>\n",
       "      <td>[tenis, slip, on, feminino, masculino, origina...</td>\n",
       "    </tr>\n",
       "    <tr>\n",
       "      <th>29999</th>\n",
       "      <td>Bicicleta Nathor Rosa Infantil Sem Pedal Balan...</td>\n",
       "      <td>bicicleta nathor rosa infantil sem pedal balan...</td>\n",
       "      <td>[bicicleta, nathor, rosa, infantil, sem, pedal...</td>\n",
       "    </tr>\n",
       "  </tbody>\n",
       "</table>\n",
       "</div>"
      ],
      "text/plain": [
       "                                                   title  \\\n",
       "29995  Tênis Vans Old Skool I Love My Vans - Usado - ...   \n",
       "29996                Tênis Feminino Preto Moleca 5296155   \n",
       "29997  Tenis Botinha Com Pelo Via Marte Original Lanç...   \n",
       "29998  Tênis Slip On Feminino Masculino Original Sapa...   \n",
       "29999  Bicicleta Nathor Rosa Infantil Sem Pedal Balan...   \n",
       "\n",
       "                                           cleaned_title  \\\n",
       "29995  tenis vans old skool i love my vans - usado - ...   \n",
       "29996                tenis feminino preto moleca 5296155   \n",
       "29997  tenis botinha com pelo via marte original lanc...   \n",
       "29998  tenis slip on feminino masculino original sapa...   \n",
       "29999  bicicleta nathor rosa infantil sem pedal balan...   \n",
       "\n",
       "                                                  tokens  \n",
       "29995  [tenis, vans, old, skool, i, love, my, vans, u...  \n",
       "29996          [tenis, feminino, preto, moleca, 5296155]  \n",
       "29997  [tenis, botinha, com, pelo, via, marte, origin...  \n",
       "29998  [tenis, slip, on, feminino, masculino, origina...  \n",
       "29999  [bicicleta, nathor, rosa, infantil, sem, pedal...  "
      ]
     },
     "execution_count": 11,
     "metadata": {},
     "output_type": "execute_result"
    }
   ],
   "source": [
    "df['tokens'] = df['cleaned_title'].apply(tokenize_re)\n",
    "df.tail()"
   ]
  },
  {
   "cell_type": "markdown",
   "metadata": {},
   "source": [
    "A tokenización se hace usando expresiones regulares, que detectan palabras compuestas por caracteres alfanuméricos, ignorando signos de puntuación."
   ]
  },
  {
   "cell_type": "code",
   "execution_count": 12,
   "metadata": {},
   "outputs": [
    {
     "name": "stdout",
     "output_type": "stream",
     "text": [
      "tenis: 22600\n",
      "feminino: 7931\n",
      "masculino: 5349\n",
      "casual: 3757\n",
      "preto: 3664\n",
      "infantil: 3496\n",
      "original: 2766\n",
      "sapatenis: 2630\n",
      "bicicleta: 2248\n",
      "branco: 1721\n",
      "aro: 1623\n",
      "couro: 1495\n",
      "olympikus: 1491\n",
      "slip: 1430\n",
      "com: 1406\n"
     ]
    }
   ],
   "source": [
    "most_common_words = get_most_common_words(df['tokens'], top_n=15, min_word_length=3)\n",
    "for palabra, freq in most_common_words:\n",
    "    print(f'{palabra}: {freq}')"
   ]
  },
  {
   "cell_type": "markdown",
   "metadata": {},
   "source": [
    "Notá que palabras como **tenis**, **feminino**, **masculino** y **casual** son muy frecuentes en los títulos, lo que indica que estos términos se repiten con frecuencia en la descripción de los productos. En cambio, palabras como **bicicleta** aparecen mucho menos, lo que sugiere una menor presencia de ese tipo de artículo en el dataset.\n"
   ]
  },
  {
   "cell_type": "code",
   "execution_count": 13,
   "metadata": {},
   "outputs": [
    {
     "name": "stdout",
     "output_type": "stream",
     "text": [
      "Bigrams más frecuentes:\n",
      "[(('tenis', 'feminino'), 3560), (('tenis', 'infantil'), 1852), (('tenis', 'masculino'), 1562), (('slip', 'on'), 1292), (('tenis', 'olympikus'), 900)]\n",
      "Trigrams más frecuentes:\n",
      "[(('tenis', 'feminino', 'casual'), 472), (('bicicleta', 'aro', '29'), 350), (('tenis', 'slip', 'on'), 347), (('tenis', 'infantil', 'feminino'), 326), (('tenis', 'casual', 'feminino'), 274)]\n"
     ]
    }
   ],
   "source": [
    "df['bigrams'] = df['tokens'].apply(lambda x: generate_ngrams(x, 2))\n",
    "df['trigrams'] = df['tokens'].apply(lambda x: generate_ngrams(x, 3))\n",
    "\n",
    "# Contar los bigramas más comunes\n",
    "all_bigrams = [bigram for bigrams in df['bigrams'] for bigram in bigrams]\n",
    "bigram_counts = Counter(all_bigrams)\n",
    "\n",
    "# Contar los trigramas más comunes\n",
    "all_trigrams = [trigram for trigrams in df['trigrams'] for trigram in trigrams]\n",
    "trigram_counts = Counter(all_trigrams)\n",
    "\n",
    "print(\"Bigrams más frecuentes:\")\n",
    "print(bigram_counts.most_common(5))\n",
    "\n",
    "print(\"Trigrams más frecuentes:\")\n",
    "print(trigram_counts.most_common(5))"
   ]
  },
  {
   "cell_type": "markdown",
   "metadata": {},
   "source": [
    "**Bigramas más frecuentes:**\n",
    "('tenis', 'feminino'), ('tenis', 'infantil'), ('tenis', 'masculino'): muestran cómo la palabra *\"tenis\"* suele combinarse con segmentos de público objetivo, lo que indica una estructura recurrente en las descripciones.\n",
    "\n",
    "('slip', 'on'): señala un tipo específico de calzado, común y estandarizado en los nombres de productos.\n",
    "\n",
    "('tenis', 'olympikus'): muestra que la marca *Olympikus* aparece con frecuencia asociada a *\"tenis\"*.\n",
    "\n",
    "**Trigramas más frecuentes:**\n",
    "('tenis', 'feminino', 'casual'), ('tenis', 'casual', 'feminino'): muestran combinaciones habituales de producto + género + estilo.\n",
    "\n",
    "('bicicleta', 'aro', '29'): indica un patrón típico en la descripción de bicicletas según el tamaño del aro.\n",
    "\n",
    "('tenis', 'slip', 'on'): refuerza la popularidad de este modelo específico de calzado.\n"
   ]
  },
  {
   "cell_type": "code",
   "execution_count": 14,
   "metadata": {},
   "outputs": [
    {
     "name": "stdout",
     "output_type": "stream",
     "text": [
      "Longitud promedio de tokens por título: 7.26\n",
      "Longitud máxima: 28\n",
      "Longitud mínima: 1\n"
     ]
    }
   ],
   "source": [
    "df['num_tokens'] = df['tokens'].apply(len)\n",
    "\n",
    "mean_tokens = df['num_tokens'].mean()\n",
    "max_tokens = df['num_tokens'].max()\n",
    "min_tokens = df['num_tokens'].min()\n",
    "\n",
    "print(f'Longitud promedio de tokens por título: {mean_tokens:.2f}')\n",
    "print(f'Longitud máxima: {max_tokens}')\n",
    "print(f'Longitud mínima: {min_tokens}')"
   ]
  },
  {
   "cell_type": "code",
   "execution_count": 15,
   "metadata": {},
   "outputs": [
    {
     "data": {
      "image/png": "[encoded data removed]",
      "text/plain": [
       "<Figure size 1080x360 with 2 Axes>"
      ]
     },
     "metadata": {
      "needs_background": "light"
     },
     "output_type": "display_data"
    }
   ],
   "source": [
    "fig, axes = plt.subplots(1, 2, figsize=(15, 5))\n",
    "\n",
    "# Histograma \n",
    "axes[0].hist(\n",
    "    df['num_tokens'],\n",
    "    bins=20,\n",
    "    color='#ffe600',\n",
    "    edgecolor='#333333'\n",
    ")\n",
    "axes[0].set_title('Distribución de la longitud de tokens por título')\n",
    "axes[0].set_xlabel('Número de tokens')\n",
    "axes[0].set_ylabel('Frecuencia')\n",
    "axes[0].set_facecolor('white')\n",
    "axes[0].grid(False)\n",
    "\n",
    "# Boxplot\n",
    "axes[1].boxplot(\n",
    "    df['num_tokens'],\n",
    "    vert=False,\n",
    "    patch_artist=True,\n",
    "    boxprops=dict(facecolor='#ffe600', color='#333333'),\n",
    "    medianprops=dict(color='#333333'),\n",
    "    whiskerprops=dict(color='#333333'),\n",
    "    capprops=dict(color='#333333')\n",
    ")\n",
    "axes[1].set_title('Boxplot de la longitud de tokens')\n",
    "axes[1].set_xlabel('Número de tokens')\n",
    "axes[1].set_yticks([])            \n",
    "axes[1].set_facecolor('white')\n",
    "axes[1].grid(False)\n",
    "\n",
    "plt.tight_layout()\n",
    "plt.show()\n"
   ]
  },
  {
   "cell_type": "markdown",
   "metadata": {},
   "source": [
    "### Distribución de la longitud de los títulos (tokens)\n",
    "\n",
    "Observamos que:\n",
    "\n",
    "- El número promedio de tokens por título es de aproximadamente **7,26**, lo que refleja que los títulos tienden a ser breves y concisos.  \n",
    "- La mayor concentración de títulos se encuentra entre **4 y 10 tokens**, lo que indica una estructura relativamente estandarizada en la redacción.  \n",
    "- Aunque hay algunos títulos que alcanzan hasta **28 tokens**, estos casos son **outliers** poco frecuentes.  \n",
    "- El mínimo observado es de **1 token**, lo cual podría señalar títulos genéricos, incompletos o con poco valor informativo.\n",
    "\n",
    "\n",
    "-------\n",
    "\n",
    "A continuación, el código reconstruye los títulos a partir de los tokens y aplica la técnica de TF-IDF para identificar las palabras más relevantes de cada texto. De esta manera, calcula los pesos TF-IDF para todas las palabras del primer título y ordena esos términos según su importancia. El resultado es una lista de palabras clave que representan mejor ese título en relación con el resto del conjunto.\n"
   ]
  },
  {
   "cell_type": "code",
   "execution_count": 16,
   "metadata": {},
   "outputs": [
    {
     "name": "stdout",
     "output_type": "stream",
     "text": [
      "Palabras clave para el primer título según TF-IDF:\n",
      "[('posh', 0.721082244027785), ('ascension', 0.5175967363443497), ('vermelho', 0.35395186159292946), ('preto', 0.21157025669009114), ('masculino', 0.18529157128848214), ('tenis', 0.08807471624686453)]\n"
     ]
    }
   ],
   "source": [
    "# Convertir los tokens a texto limpio nuevamente\n",
    "df['cleaned_text'] = df['tokens'].apply(lambda x: ' '.join(x))\n",
    "\n",
    "# Crear la matriz TF-IDF\n",
    "vectorizer = TfidfVectorizer()\n",
    "tfidf_matrix = vectorizer.fit_transform(df['cleaned_text'])\n",
    "\n",
    "# Obtener palabras clave con TF-IDF más alto para el primer título\n",
    "feature_names = vectorizer.get_feature_names_out()\n",
    "tfidf_scores = tfidf_matrix[0].T.todense().tolist()\n",
    "keywords = [(feature_names[i], score[0]) for i, score in enumerate(tfidf_scores) if score[0] > 0]\n",
    "keywords = sorted(keywords, key=lambda x: x[1], reverse=True)\n",
    "\n",
    "print('Palabras clave para el primer título según TF-IDF:')\n",
    "print(keywords[:10])"
   ]
  },
  {
   "cell_type": "markdown",
   "metadata": {},
   "source": [
    "#### Eliminar Stop-words\n",
    "\n",
    "Eliminar *stop-words* permite **sacar palabras muy comunes** (como *de*, *y*, *el*) que **no aportan mucho significado**. Así se reduce el ruido y se enfoca el análisis en términos más relevantes.\n"
   ]
  },
  {
   "cell_type": "code",
   "execution_count": 17,
   "metadata": {},
   "outputs": [
    {
     "data": {
      "text/html": [
       "<div>\n",
       "<style scoped>\n",
       "    .dataframe tbody tr th:only-of-type {\n",
       "        vertical-align: middle;\n",
       "    }\n",
       "\n",
       "    .dataframe tbody tr th {\n",
       "        vertical-align: top;\n",
       "    }\n",
       "\n",
       "    .dataframe thead th {\n",
       "        text-align: right;\n",
       "    }\n",
       "</style>\n",
       "<table border=\"1\" class=\"dataframe\">\n",
       "  <thead>\n",
       "    <tr style=\"text-align: right;\">\n",
       "      <th></th>\n",
       "      <th>tokens</th>\n",
       "      <th>filtered_tokens</th>\n",
       "    </tr>\n",
       "  </thead>\n",
       "  <tbody>\n",
       "    <tr>\n",
       "      <th>29995</th>\n",
       "      <td>[tenis, vans, old, skool, i, love, my, vans, u...</td>\n",
       "      <td>[tenis, vans, old, skool, i, love, my, vans, u...</td>\n",
       "    </tr>\n",
       "    <tr>\n",
       "      <th>29996</th>\n",
       "      <td>[tenis, feminino, preto, moleca, 5296155]</td>\n",
       "      <td>[tenis, feminino, preto, moleca, 5296155]</td>\n",
       "    </tr>\n",
       "    <tr>\n",
       "      <th>29997</th>\n",
       "      <td>[tenis, botinha, com, pelo, via, marte, origin...</td>\n",
       "      <td>[tenis, botinha, via, marte, original, lancame...</td>\n",
       "    </tr>\n",
       "    <tr>\n",
       "      <th>29998</th>\n",
       "      <td>[tenis, slip, on, feminino, masculino, origina...</td>\n",
       "      <td>[tenis, slip, on, feminino, masculino, origina...</td>\n",
       "    </tr>\n",
       "    <tr>\n",
       "      <th>29999</th>\n",
       "      <td>[bicicleta, nathor, rosa, infantil, sem, pedal...</td>\n",
       "      <td>[bicicleta, nathor, rosa, infantil, pedal, bal...</td>\n",
       "    </tr>\n",
       "  </tbody>\n",
       "</table>\n",
       "</div>"
      ],
      "text/plain": [
       "                                                  tokens  \\\n",
       "29995  [tenis, vans, old, skool, i, love, my, vans, u...   \n",
       "29996          [tenis, feminino, preto, moleca, 5296155]   \n",
       "29997  [tenis, botinha, com, pelo, via, marte, origin...   \n",
       "29998  [tenis, slip, on, feminino, masculino, origina...   \n",
       "29999  [bicicleta, nathor, rosa, infantil, sem, pedal...   \n",
       "\n",
       "                                         filtered_tokens  \n",
       "29995  [tenis, vans, old, skool, i, love, my, vans, u...  \n",
       "29996          [tenis, feminino, preto, moleca, 5296155]  \n",
       "29997  [tenis, botinha, via, marte, original, lancame...  \n",
       "29998  [tenis, slip, on, feminino, masculino, origina...  \n",
       "29999  [bicicleta, nathor, rosa, infantil, pedal, bal...  "
      ]
     },
     "execution_count": 17,
     "metadata": {},
     "output_type": "execute_result"
    }
   ],
   "source": [
    "# Combinar stop words en portugués\n",
    "stop_words_pt = set(stopwords.words('portuguese'))\n",
    "\n",
    "# Aplicar la función a los tokens\n",
    "df['filtered_tokens'] = df['tokens'].apply(remove_multilang_stopwords)\n",
    "\n",
    "df[['tokens', 'filtered_tokens']].tail()"
   ]
  },
  {
   "cell_type": "code",
   "execution_count": 18,
   "metadata": {},
   "outputs": [
    {
     "name": "stdout",
     "output_type": "stream",
     "text": [
      "Promedio de palabras eliminadas: 0.28\n",
      "Porcentaje de reducción en el tamaño de los tokens: 3.92%\n"
     ]
    },
    {
     "data": {
      "image/png": "[encoded data removed]",
      "text/plain": [
       "<Figure size 720x432 with 1 Axes>"
      ]
     },
     "metadata": {
      "needs_background": "light"
     },
     "output_type": "display_data"
    }
   ],
   "source": [
    "df['original_length'] = df['tokens'].apply(len)\n",
    "df['filtered_length'] = df['filtered_tokens'].apply(len)\n",
    "\n",
    "# Calcular palabras eliminadas\n",
    "df['removed_words'] = df['original_length'] - df['filtered_length']\n",
    "\n",
    "average_removed = df['removed_words'].mean()\n",
    "percentage_reduction = (average_removed / df['original_length'].mean()) * 100\n",
    "print(f'Promedio de palabras eliminadas: {average_removed:.2f}')\n",
    "print(f'Porcentaje de reducción en el tamaño de los tokens: {percentage_reduction:.2f}%')\n",
    "\n",
    "\n",
    "plt.figure(figsize=(10, 6))\n",
    "plt.hist(df['removed_words'], bins=20, color='#ffe600', edgecolor='#333333')\n",
    "\n",
    "# Línea azul con valor medio\n",
    "plt.axvline(\n",
    "    average_removed,\n",
    "    color='#2d3277',\n",
    "    linestyle='--',\n",
    "    linewidth=2,\n",
    "    label=f'Promedio de eliminadas ≈ {average_removed:.2f} palabras'\n",
    ")\n",
    "\n",
    "# Títulos y etiquetas\n",
    "plt.title('Distribución de palabras eliminadas por título', fontsize=14, fontweight='bold')\n",
    "plt.xlabel('Número de palabras eliminadas por título', fontsize=12)\n",
    "plt.ylabel('Cantidad de títulos', fontsize=12)\n",
    "plt.legend(loc='upper right', fontsize=10, frameon=False)\n",
    "\n",
    "# Estilo visual\n",
    "plt.gca().set_facecolor('white')\n",
    "plt.grid(False)\n",
    "plt.tight_layout()\n",
    "\n",
    "plt.show()\n"
   ]
  },
  {
   "cell_type": "markdown",
   "metadata": {},
   "source": [
    "###  Análisis general de los títulos\n",
    "\n",
    "1. **Frecuencia de palabras**\n",
    "   El análisis muestra que términos como `tenis`, `feminino`, `masculino` y `infantil` aparecen con muchísima frecuencia en los títulos, lo que refleja una fuerte presencia de productos del segmento de calzado, especialmente clasificados por género y público.\n",
    "   Si bien estas palabras son útiles para entender el dominio general del dataset, su alta frecuencia puede reducir su capacidad discriminativa a la hora de medir similitudes entre productos.\n",
    "\n",
    "2. **Bigramas y trigramas más frecuentes**\n",
    "   La presencia de combinaciones como `tenis feminino`, `tenis infantil`, o `bicicleta aro 29` indica que los títulos siguen patrones repetidos que agrupan producto, público objetivo y característica específica.\n",
    "   Estos n-gramas ayudan a capturar relaciones semánticas más ricas que palabras aisladas, y pueden ser claves para construir representaciones más significativas de los títulos.\n",
    "\n",
    "3. **Estadísticas descriptivas**\n",
    "   La longitud promedio de los títulos es de **7,26 tokens**, lo que sugiere que son textos relativamente breves y estandarizados, ideales para análisis rápidos y comparaciones eficientes.\n",
    "   Aunque existen casos extremos con títulos de hasta **28 tokens** o tan cortos como **1 token**, estos son minoría y pueden tratarse como outliers.\n",
    "\n",
    "4. **Extracción de palabras clave con TF-IDF**\n",
    "   Al aplicar la técnica de TF-IDF sobre los textos ya normalizados, se destacan términos únicos como `posh`, `ascension`, `vermelho`, que aparecen con alto peso en el primer título.\n",
    "   Estas palabras clave son fundamentales para diferenciar un producto de otros y capturan aspectos únicos que tokens comunes como `tenis` o `masculino` no logran distinguir.\n",
    "\n",
    "\n",
    "###  Justificación de la eliminación de stop words\n",
    "\n",
    "1. **Reducción del ruido semántico**\n",
    "   Las stop words (como \"de\", \"para\", \"y\") son comunes pero poco informativas, y su eliminación ayuda a evitar conexiones artificiales entre títulos que no comparten contenido real.\n",
    "\n",
    "2. **Enfoque en términos relevantes**\n",
    "   Al limpiar los títulos, el análisis se concentra en términos verdaderamente útiles: nombres de productos, atributos, géneros, talles, marcas, etc.\n",
    "\n",
    "3. **Mejora de la precisión en similitudes**\n",
    "   Quitar palabras vacías permite que las comparaciones se basen en contenido significativo, reduciendo el riesgo de falsas similitudes entre productos no relacionados.\n",
    "\n",
    "4. **Impacto mínimo pero efectivo**\n",
    "   Aunque solo se elimina un promedio de **0,38 palabras por título** (aprox. 5% del total de tokens), esta limpieza reduce ruido sin perder contenido útil.\n",
    "\n",
    "###  Conclusión\n",
    "\n",
    "El análisis combinado de frecuencia, n-gramas, longitud textual y TF-IDF permite construir una base sólida para comparar títulos de productos de manera eficiente.\n",
    "Los títulos son lo suficientemente breves y estandarizados como para aplicar técnicas como TF-IDF y similitud de coseno, y al eliminar palabras vacías se mejora la precisión en las comparaciones.\n",
    "Estos pasos son esenciales para **detectar productos similares**, **organizar catálogos** o incluso para tareas de **deduplicación** y **recomendación** dentro de plataformas de e-commerce.\n"
   ]
  },
  {
   "cell_type": "markdown",
   "metadata": {},
   "source": [
    "## 🧩 Parte 3:. Evaluación de rendimiento y presentación de similitudes "
   ]
  },
  {
   "cell_type": "code",
   "execution_count": 19,
   "metadata": {},
   "outputs": [
    {
     "name": "stdout",
     "output_type": "stream",
     "text": [
      "Matriz TF-IDF generada: (30000, 15898)\n"
     ]
    }
   ],
   "source": [
    "# Unir tokens en un solo texto para cada título\n",
    "df['filtered_text'] = df['filtered_tokens'].apply(lambda x: ' '.join(x))\n",
    "\n",
    "vectorizer = TfidfVectorizer()\n",
    "tfidf_matrix = vectorizer.fit_transform(df['filtered_text'])\n",
    "\n",
    "print('Matriz TF-IDF generada:', tfidf_matrix.shape)"
   ]
  },
  {
   "cell_type": "code",
   "execution_count": 20,
   "metadata": {},
   "outputs": [
    {
     "name": "stdout",
     "output_type": "stream",
     "text": [
      "Vectorizando...\n",
      "Aplicando reducción de dimensionalidad...\n",
      "Similitudes por lotes...\n"
     ]
    },
    {
     "name": "stderr",
     "output_type": "stream",
     "text": [
      "100%|██████████| 30/30 [00:17<00:00,  1.73it/s]\n"
     ]
    },
    {
     "data": {
      "text/html": [
       "<div>\n",
       "<style scoped>\n",
       "    .dataframe tbody tr th:only-of-type {\n",
       "        vertical-align: middle;\n",
       "    }\n",
       "\n",
       "    .dataframe tbody tr th {\n",
       "        vertical-align: top;\n",
       "    }\n",
       "\n",
       "    .dataframe thead th {\n",
       "        text-align: right;\n",
       "    }\n",
       "</style>\n",
       "<table border=\"1\" class=\"dataframe\">\n",
       "  <thead>\n",
       "    <tr style=\"text-align: right;\">\n",
       "      <th></th>\n",
       "      <th>title_1</th>\n",
       "      <th>title_2</th>\n",
       "      <th>score_similitud</th>\n",
       "    </tr>\n",
       "  </thead>\n",
       "  <tbody>\n",
       "    <tr>\n",
       "      <th>0</th>\n",
       "      <td>Tênis Feminino Olympikus Saga 876 Esportivo Co...</td>\n",
       "      <td>Tênis Feminino Olympikus Saga 876 Esportivo  C...</td>\n",
       "      <td>1.0</td>\n",
       "    </tr>\n",
       "    <tr>\n",
       "      <th>1</th>\n",
       "      <td>Tênis Feminino Kolosh - 0787</td>\n",
       "      <td>Tênis Kolosh Feminino - C1662</td>\n",
       "      <td>1.0</td>\n",
       "    </tr>\n",
       "    <tr>\n",
       "      <th>2</th>\n",
       "      <td>Tênis Feminino Kolosh C0628a</td>\n",
       "      <td>Tênis Kolosh Feminino - C1662</td>\n",
       "      <td>1.0</td>\n",
       "    </tr>\n",
       "    <tr>\n",
       "      <th>3</th>\n",
       "      <td>Tênis Feminino Kolosh - 0787</td>\n",
       "      <td>Tênis Feminino Kolosh C0628a</td>\n",
       "      <td>1.0</td>\n",
       "    </tr>\n",
       "    <tr>\n",
       "      <th>4</th>\n",
       "      <td>Tênis Tryon Nikko Feminino</td>\n",
       "      <td>Tênis Feminino Tryon Civic 1t02029</td>\n",
       "      <td>1.0</td>\n",
       "    </tr>\n",
       "    <tr>\n",
       "      <th>...</th>\n",
       "      <td>...</td>\n",
       "      <td>...</td>\n",
       "      <td>...</td>\n",
       "    </tr>\n",
       "    <tr>\n",
       "      <th>7341761</th>\n",
       "      <td>Tênis 420 We420cn1 Preto Feminino</td>\n",
       "      <td>Tênis Feminino Week Class Capricho Preto Envio...</td>\n",
       "      <td>0.5</td>\n",
       "    </tr>\n",
       "    <tr>\n",
       "      <th>7341762</th>\n",
       "      <td>Tênis Feminino Preto</td>\n",
       "      <td>Tênis Feminino Week Class Capricho Preto Envio...</td>\n",
       "      <td>0.5</td>\n",
       "    </tr>\n",
       "    <tr>\n",
       "      <th>7341763</th>\n",
       "      <td>Bike Specialized Hockhooper Aro 29</td>\n",
       "      <td>Bicicleta 29 Absolute Alumínio 21v Hidráulica ...</td>\n",
       "      <td>0.5</td>\n",
       "    </tr>\n",
       "    <tr>\n",
       "      <th>7341764</th>\n",
       "      <td>Tenis Kolosh Feminino Adulto Academia Cadarço ...</td>\n",
       "      <td>Tênis Feminino Leve Confortável Sem Cadarço Ta...</td>\n",
       "      <td>0.5</td>\n",
       "    </tr>\n",
       "    <tr>\n",
       "      <th>7341765</th>\n",
       "      <td>Tenis Infantil Masculino Menino Escolar D O Me...</td>\n",
       "      <td>Tênis Infantil Capitão América Comfort Masculino</td>\n",
       "      <td>0.5</td>\n",
       "    </tr>\n",
       "  </tbody>\n",
       "</table>\n",
       "<p>7341766 rows × 3 columns</p>\n",
       "</div>"
      ],
      "text/plain": [
       "                                                   title_1  \\\n",
       "0        Tênis Feminino Olympikus Saga 876 Esportivo Co...   \n",
       "1                             Tênis Feminino Kolosh - 0787   \n",
       "2                             Tênis Feminino Kolosh C0628a   \n",
       "3                             Tênis Feminino Kolosh - 0787   \n",
       "4                               Tênis Tryon Nikko Feminino   \n",
       "...                                                    ...   \n",
       "7341761                  Tênis 420 We420cn1 Preto Feminino   \n",
       "7341762                               Tênis Feminino Preto   \n",
       "7341763                 Bike Specialized Hockhooper Aro 29   \n",
       "7341764  Tenis Kolosh Feminino Adulto Academia Cadarço ...   \n",
       "7341765  Tenis Infantil Masculino Menino Escolar D O Me...   \n",
       "\n",
       "                                                   title_2  score_similitud  \n",
       "0        Tênis Feminino Olympikus Saga 876 Esportivo  C...              1.0  \n",
       "1                            Tênis Kolosh Feminino - C1662              1.0  \n",
       "2                            Tênis Kolosh Feminino - C1662              1.0  \n",
       "3                             Tênis Feminino Kolosh C0628a              1.0  \n",
       "4                      Tênis Feminino Tryon Civic 1t02029               1.0  \n",
       "...                                                    ...              ...  \n",
       "7341761  Tênis Feminino Week Class Capricho Preto Envio...              0.5  \n",
       "7341762  Tênis Feminino Week Class Capricho Preto Envio...              0.5  \n",
       "7341763  Bicicleta 29 Absolute Alumínio 21v Hidráulica ...              0.5  \n",
       "7341764  Tênis Feminino Leve Confortável Sem Cadarço Ta...              0.5  \n",
       "7341765   Tênis Infantil Capitão América Comfort Masculino              0.5  \n",
       "\n",
       "[7341766 rows x 3 columns]"
      ]
     },
     "execution_count": 20,
     "metadata": {},
     "output_type": "execute_result"
    }
   ],
   "source": [
    "similarity_df = calculate_similarities_batch(df, batch_size=1000, threshold=0.5)\n",
    "similarity_df"
   ]
  },
  {
   "cell_type": "code",
   "execution_count": 21,
   "metadata": {
    "scrolled": false
   },
   "outputs": [
    {
     "name": "stdout",
     "output_type": "stream",
     "text": [
      "Vectorizando...\n",
      "Similitudes por lotes...\n"
     ]
    },
    {
     "name": "stderr",
     "output_type": "stream",
     "text": [
      "100%|██████████| 1/1 [00:00<?, ?it/s]\n"
     ]
    },
    {
     "name": "stdout",
     "output_type": "stream",
     "text": [
      "Vectorizando...\n",
      "Aplicando reducción de dimensionalidad...\n",
      "Similitudes por lotes...\n"
     ]
    },
    {
     "name": "stderr",
     "output_type": "stream",
     "text": [
      "100%|██████████| 2/2 [00:00<00:00, 241.61it/s]\n"
     ]
    },
    {
     "name": "stdout",
     "output_type": "stream",
     "text": [
      "Vectorizando...\n",
      "Aplicando reducción de dimensionalidad...\n",
      "Similitudes por lotes...\n"
     ]
    },
    {
     "name": "stderr",
     "output_type": "stream",
     "text": [
      "100%|██████████| 3/3 [00:00<00:00, 355.77it/s]\n"
     ]
    },
    {
     "name": "stdout",
     "output_type": "stream",
     "text": [
      "Vectorizando...\n",
      "Aplicando reducción de dimensionalidad...\n",
      "Similitudes por lotes...\n"
     ]
    },
    {
     "name": "stderr",
     "output_type": "stream",
     "text": [
      "100%|██████████| 5/5 [00:00<00:00, 194.77it/s]"
     ]
    },
    {
     "name": "stdout",
     "output_type": "stream",
     "text": [
      "Vectorizando...\n",
      "Aplicando reducción de dimensionalidad...\n"
     ]
    },
    {
     "name": "stderr",
     "output_type": "stream",
     "text": [
      "\n"
     ]
    },
    {
     "name": "stdout",
     "output_type": "stream",
     "text": [
      "Similitudes por lotes...\n"
     ]
    },
    {
     "name": "stderr",
     "output_type": "stream",
     "text": [
      "100%|██████████| 8/8 [00:00<00:00, 158.86it/s]\n"
     ]
    },
    {
     "name": "stdout",
     "output_type": "stream",
     "text": [
      "Vectorizando...\n",
      "Aplicando reducción de dimensionalidad...\n",
      "Similitudes por lotes...\n"
     ]
    },
    {
     "name": "stderr",
     "output_type": "stream",
     "text": [
      "100%|██████████| 13/13 [00:00<00:00, 87.96it/s]\n"
     ]
    },
    {
     "data": {
      "image/png": "[encoded data removed]",
      "text/plain": [
       "<Figure size 1152x360 with 2 Axes>"
      ]
     },
     "metadata": {
      "needs_background": "light"
     },
     "output_type": "display_data"
    }
   ],
   "source": [
    "# Lista de tamaños para probar\n",
    "sample_sizes = [100, 300, 500, 1000, 1500, 2500]\n",
    "execution_times = []\n",
    "cpu_usages = []\n",
    "\n",
    "process = psutil.Process(os.getpid())\n",
    "\n",
    "for size in sample_sizes:\n",
    "    df_sample = df.sample(n=size, random_state=42).reset_index(drop=True)\n",
    "    \n",
    "    cpu_start = sum(process.cpu_times()[:2])\n",
    "    t_start = time.time()\n",
    "    _ = calculate_similarities_batch(df_sample, batch_size=200, threshold=0.5)\n",
    "    t_end = time.time()\n",
    "    cpu_end = sum(process.cpu_times()[:2])\n",
    "    \n",
    "    exec_time = t_end - t_start\n",
    "    cpu_time = cpu_end - cpu_start\n",
    "    cpu_percent = (cpu_time / exec_time) * 100\n",
    "    \n",
    "    execution_times.append(exec_time)\n",
    "    cpu_usages.append(cpu_percent)\n",
    "\n",
    "# Crear figuras lado a lado\n",
    "fig, (ax1, ax2) = plt.subplots(1, 2, figsize=(16, 5))\n",
    "\n",
    "# Gráfico 1: Tiempo de ejecución vs tamaño\n",
    "ax1.plot(sample_sizes, execution_times, marker='o', color='#ffe600')\n",
    "ax1.set_title('Tiempo de ejecución vs Cantidad de títulos')\n",
    "ax1.set_xlabel('Cantidad de títulos')\n",
    "ax1.set_ylabel('Tiempo (segundos)')\n",
    "ax1.set_facecolor('white')\n",
    "ax1.grid(False)\n",
    "\n",
    "# Gráfico 2: Uso medio de CPU vs tamaño\n",
    "ax2.plot(sample_sizes, cpu_usages, marker='s', color='#333333')\n",
    "ax2.set_title('Uso medio de CPU vs Cantidad de títulos')\n",
    "ax2.set_xlabel('Cantidad de títulos')\n",
    "ax2.set_ylabel('CPU medio (%)')\n",
    "ax2.set_facecolor('white')\n",
    "ax2.grid(False)\n",
    "\n",
    "plt.tight_layout()\n",
    "plt.show()\n"
   ]
  },
  {
   "cell_type": "markdown",
   "metadata": {},
   "source": [
    "1. **Tiempo de ejecución vs cantidad de títulos**\n",
    "   El gráfico de la izquierda muestra un crecimiento **casi lineal** en el tiempo de ejecución a medida que aumenta el número de títulos procesados. Esto es esperable, ya que la función calcula similitudes mediante **cosine similarity**, cuya complejidad es teóricamente $O(n^2)$, pero gracias al procesamiento por lotes y al umbral de filtrado, se reduce notablemente el volumen de comparaciones.\n",
    "\n",
    "2. **Uso promedio de CPU (%)**\n",
    "   El gráfico de la derecha indica que el uso de CPU **aumenta rápidamente** en las primeras pruebas, pero luego **se estabiliza** o incluso **disminuye levemente**. Esto sugiere que el procesamiento es intensivo al principio, pero alcanza un equilibrio en cuanto a uso de recursos, posiblemente por optimización de memoria o límites de paralelismo.\n",
    "\n",
    "\n",
    "### Evaluación de la escalabilidad\n",
    "\n",
    "La función `calculate_similarities_batch` es **razonablemente escalable** por varias razones:\n",
    "\n",
    "1. **Procesamiento por lotes (`batch_size`)**\n",
    "   En lugar de comparar todos los títulos entre sí al mismo tiempo (lo que sería muy costoso), la función divide el trabajo en bloques más pequeños. Esto permite controlar el uso de memoria y mejorar la eficiencia.\n",
    "\n",
    "2. **Filtrado por umbral (`threshold`)**\n",
    "   Solo se guardan los pares de títulos cuya similitud supera un valor mínimo. Esto reduce de forma significativa la cantidad de resultados almacenados y acelera el proceso.\n",
    "\n",
    "3. **Reducción de dimensionalidad (SVD)**\n",
    "   Cuando el número de características del TF-IDF es muy alto, se aplica **Truncated SVD** para reducir la dimensión de los vectores, lo que agiliza los cálculos de similitud.\n",
    "\n",
    "---\n",
    "\n",
    "### Conclusión\n",
    "\n",
    "La función `calculate_similarities_batch` muestra una **buena capacidad de escalamiento** en datasets medianos y grandes, gracias a:\n",
    "\n",
    "* Una vectorización optimizada (TF-IDF),\n",
    "* Comparaciones por bloques,\n",
    "* Reducción de dimensionalidad y filtrado por score.\n",
    "\n",
    "Sin embargo, para datasets **muy grandes** (millones de títulos), se recomienda incorporar paralelismo explícito (`joblib`, `multiprocessing`) o usar técnicas de **búsqueda aproximada de vecinos (ANN)** como `faiss` o `annoy`, que permiten mantener un rendimiento aceptable incluso a gran escala.\n",
    "\n",
    "\n"
   ]
  },
  {
   "cell_type": "markdown",
   "metadata": {},
   "source": [
    "## 🧩 Parte 4: Pipeline\n",
    "\n",
    "En esta última parte, además de desarrollar el **pipeline para identificar similitudes entre productos** y analizar el **tiempo de ejecución**, también realizaremos el **cálculo de similitudes** para los productos presentes en la base **`items_titles_test.csv`**.\n"
   ]
  },
  {
   "cell_type": "code",
   "execution_count": 2,
   "metadata": {},
   "outputs": [],
   "source": [
    "class SimilarityPipeline:\n",
    "    def __init__(\n",
    "        self,\n",
    "        df,\n",
    "        text_column='title',\n",
    "        batch_size=500,\n",
    "        threshold=0.5,\n",
    "        max_features=5000,\n",
    "        min_df=2,\n",
    "        n_components=100,\n",
    "        n_results=None,\n",
    "        language='portuguese'\n",
    "    ):\n",
    "        '''\n",
    "        Pipeline para calcular similaridades entre textos usando TF-IDF + SVD.\n",
    "\n",
    "        Parâmetros\n",
    "        ----------\n",
    "        df : pd.DataFrame\n",
    "            DataFrame com a coluna de títulos.\n",
    "        text_column : str\n",
    "            Nome da coluna que contém o título.\n",
    "        batch_size : int\n",
    "            Tamanho de cada lote para cálculo de similaridade.\n",
    "        threshold : float\n",
    "            Limiar mínimo de similaridade para considerar par.\n",
    "        max_features : int\n",
    "            Número máximo de termos no TF-IDF.\n",
    "        min_df : int\n",
    "            Frequência mínima para incluir termo no TF-IDF.\n",
    "        n_components : int\n",
    "            Componentes para TruncatedSVD.\n",
    "        n_results : int ou None\n",
    "            Quantos pares mais similares retornar (None = todos).\n",
    "        language : str\n",
    "            Idioma para baixar stop-words do NLTK.\n",
    "        '''\n",
    "        self.df = df.copy()\n",
    "        self.text_column = text_column\n",
    "        self.batch_size = batch_size\n",
    "        self.threshold = threshold\n",
    "        self.max_features = max_features\n",
    "        self.min_df = min_df\n",
    "        self.n_components = n_components\n",
    "        self.n_results = n_results\n",
    "\n",
    "        # prepara stop-words\n",
    "        try:\n",
    "            self.stop_words = set(stopwords.words(language))\n",
    "        except LookupError:\n",
    "            nltk.download('stopwords')\n",
    "            self.stop_words = set(stopwords.words(language))\n",
    "\n",
    "        # inicializa TF-IDF\n",
    "        self.vectorizer = TfidfVectorizer(\n",
    "            max_features=self.max_features,\n",
    "            min_df=self.min_df\n",
    "        )\n",
    "        self.tfidf_matrix = None\n",
    "        self.reduced_matrix = None\n",
    "        self.similarity_df = None\n",
    "\n",
    "    def _preprocess_text(self, text, lowercase=True, remove_accents=True, remove_special_chars=False):\n",
    "        '''Normaliza o texto: minusculiza, remove acentos e opcionalmente caracteres especiais.'''\n",
    "        if lowercase:\n",
    "            text = text.lower()\n",
    "        if remove_accents:\n",
    "            text = ''.join(\n",
    "                c for c in unicodedata.normalize('NFKD', text)\n",
    "                if not unicodedata.combining(c)\n",
    "            )\n",
    "        if remove_special_chars:\n",
    "            text = re.sub(r'[^a-zA-Z0-9\\s]', '', text)\n",
    "        return text\n",
    "\n",
    "    def _tokenize_re(self, text):\n",
    "        '''Tokeniza texto usando regex, extraindo sequências alfanuméricas.'''\n",
    "        return re.findall(r'\\b\\w+\\b', text)\n",
    "\n",
    "    def _remove_multilang_stopwords(self, tokens):\n",
    "        '''Remove stop-words pré-definidas de uma lista de tokens.'''\n",
    "        return [w for w in tokens if w not in self.stop_words]\n",
    "\n",
    "    def _prepare_texts(self):\n",
    "        '''Aplica todo pré-processamento e gera coluna 'processed_text'.'''\n",
    "        self.df['processed_text'] = (\n",
    "            self.df[self.text_column]\n",
    "                .apply(self._preprocess_text)\n",
    "                .apply(self._tokenize_re)\n",
    "                .apply(self._remove_multilang_stopwords)\n",
    "                .apply(lambda toks: ' '.join(toks))\n",
    "        )\n",
    "        return self\n",
    "\n",
    "    def _build_matrix(self):\n",
    "        '''Gera matriz TF-IDF e aplica TruncatedSVD se necessário.'''\n",
    "        self.tfidf_matrix = self.vectorizer.fit_transform(self.df['processed_text'])\n",
    "        if self.tfidf_matrix.shape[1] > self.n_components:\n",
    "            svd = TruncatedSVD(n_components=self.n_components, random_state=42)\n",
    "            self.reduced_matrix = svd.fit_transform(self.tfidf_matrix)\n",
    "        else:\n",
    "            self.reduced_matrix = self.tfidf_matrix.toarray()\n",
    "        return self\n",
    "\n",
    "    def _compute_similarities(self):\n",
    "        '''\n",
    "        Calcula similaridades por lotes (batch) e filtra pares acima do threshold.\n",
    "        Retorna DataFrame com ['title_1','title_2','score'].\n",
    "        '''\n",
    "        n = len(self.df)\n",
    "        results = []\n",
    "        for start in tqdm(range(0, n, self.batch_size), desc='Lotes'):\n",
    "            end = min(start + self.batch_size, n)\n",
    "            block = self.reduced_matrix[start:end]\n",
    "            sims = cosine_similarity(block, self.reduced_matrix)\n",
    "            rows, cols = np.where(sims > self.threshold)\n",
    "            for r, c in zip(rows, cols):\n",
    "                abs_r = start + r\n",
    "                if c > abs_r:\n",
    "                    results.append([\n",
    "                        self.df.iloc[abs_r][self.text_column],\n",
    "                        self.df.iloc[c][self.text_column],\n",
    "                        sims[r, c]\n",
    "                    ])\n",
    "        sim_df = pd.DataFrame(results, columns=['title_1','title_2','score'])\n",
    "        sim_df = sim_df.sort_values('score', ascending=False).reset_index(drop=True)\n",
    "        if self.n_results:\n",
    "            sim_df = sim_df.head(self.n_results)\n",
    "        self.similarity_df = sim_df\n",
    "        return self\n",
    "\n",
    "    def run(self):\n",
    "        '''Executa todo o pipeline e retorna o DataFrame de similaridades.'''\n",
    "        t0 = time.time()\n",
    "        (self\n",
    "            ._prepare_texts()\n",
    "            ._build_matrix()\n",
    "            ._compute_similarities()\n",
    "        )\n",
    "        print(f'Pipeline executado em {time.time() - t0:.2f}s')\n",
    "        return self.similarity_df\n"
   ]
  },
  {
   "cell_type": "code",
   "execution_count": null,
   "metadata": {},
   "outputs": [
    {
     "name": "stderr",
     "output_type": "stream",
     "text": [
      "Lotes: 100%|██████████| 10/10 [00:53<00:00,  5.38s/it]\n"
     ]
    },
    {
     "name": "stdout",
     "output_type": "stream",
     "text": [
      "Pipeline executado em 54.79s\n",
      "                                                  title_1  \\\n",
      "0                      Tenis Feminino Olympikus Sunna/769   \n",
      "1          Tênis On Running Cloud Preto/ Branco Masculino   \n",
      "2       Tênis Olympikus Proof 2  Preto/chumbo Caminhad...   \n",
      "3                                         Tenis Hugo Boss   \n",
      "4                       Tênis Polo Farm 921 Masculino - 1   \n",
      "...                                                   ...   \n",
      "866394  Tênis Infantil Klin Masculino Walk Marinho Ver...   \n",
      "866395  Chinelo New Balance Wsd130pk Casual Rosa Feminino   \n",
      "866396  Bicicleta Aro 29 Quadro 18 Heiland - Branca - ...   \n",
      "866397       Tênis Masculino Em Couro Confortável Casual    \n",
      "866398  Sapatênis Tênis Running Masculino Casual Estil...   \n",
      "\n",
      "                                                  title_2     score  \n",
      "0                      Tênis Olympikus Sunna Feminino 769  1.000000  \n",
      "1         Tênis On Running Cloud Masculino Preto E Branco  1.000000  \n",
      "2       Tênis Masculino Proof 2 Olympikus Preto/chumbo...  1.000000  \n",
      "3                     Tenis Valentino Garavani Rockrunner  1.000000  \n",
      "4                       Tênis Polo Farm 921 Masculino - 2  1.000000  \n",
      "...                                                   ...       ...  \n",
      "866394     Tênis Infantil Masculino Kidy 008-0499 Marinho  0.500002  \n",
      "866395  Tênis New Balance 574 Masc Classic Oferta Pron...  0.500001  \n",
      "866396                      Bicicleta Monark 10 Reformada  0.500001  \n",
      "866397  Sapatenis Ferracini Masculino Preto Confortave...  0.500001  \n",
      "866398        Sapatênis Masculino Ranster Casual Em Couro  0.500001  \n",
      "\n",
      "[866399 rows x 3 columns]\n"
     ]
    }
   ],
   "source": [
    "path = Path.cwd().parent / \"data\" / \"items_titles_test.csv\"\n",
    "df_test = pd.read_csv(path)\n",
    "df_test.rename(columns={'ITE_ITEM_TITLE':'title'}, inplace=True)\n",
    "\n",
    "pipeline = SimilarityPipeline(\n",
    "    df_test,\n",
    "    text_column  ='title',\n",
    "    batch_size   =1000,\n",
    "    threshold    =0.5,\n",
    "    max_features =5000,\n",
    "    min_df       =2,\n",
    "    n_components =100,\n",
    "    n_results    = None)\n",
    "\n",
    "sim_df = pipeline.run()\n",
    "print(sim_df)\n"
   ]
  },
  {
   "cell_type": "code",
   "execution_count": 4,
   "metadata": {},
   "outputs": [
    {
     "data": {
      "text/html": [
       "<div>\n",
       "<style scoped>\n",
       "    .dataframe tbody tr th:only-of-type {\n",
       "        vertical-align: middle;\n",
       "    }\n",
       "\n",
       "    .dataframe tbody tr th {\n",
       "        vertical-align: top;\n",
       "    }\n",
       "\n",
       "    .dataframe thead th {\n",
       "        text-align: right;\n",
       "    }\n",
       "</style>\n",
       "<table border=\"1\" class=\"dataframe\">\n",
       "  <thead>\n",
       "    <tr style=\"text-align: right;\">\n",
       "      <th></th>\n",
       "      <th>title_1</th>\n",
       "      <th>title_2</th>\n",
       "      <th>score</th>\n",
       "    </tr>\n",
       "  </thead>\n",
       "  <tbody>\n",
       "    <tr>\n",
       "      <th>0</th>\n",
       "      <td>Tenis Feminino Olympikus Sunna/769</td>\n",
       "      <td>Tênis Olympikus Sunna Feminino 769</td>\n",
       "      <td>1.000000</td>\n",
       "    </tr>\n",
       "    <tr>\n",
       "      <th>1</th>\n",
       "      <td>Tênis On Running Cloud Preto/ Branco Masculino</td>\n",
       "      <td>Tênis On Running Cloud Masculino Preto E Branco</td>\n",
       "      <td>1.000000</td>\n",
       "    </tr>\n",
       "    <tr>\n",
       "      <th>2</th>\n",
       "      <td>Tênis Olympikus Proof 2  Preto/chumbo Caminhad...</td>\n",
       "      <td>Tênis Masculino Proof 2 Olympikus Preto/chumbo...</td>\n",
       "      <td>1.000000</td>\n",
       "    </tr>\n",
       "    <tr>\n",
       "      <th>3</th>\n",
       "      <td>Tenis Hugo Boss</td>\n",
       "      <td>Tenis Valentino Garavani Rockrunner</td>\n",
       "      <td>1.000000</td>\n",
       "    </tr>\n",
       "    <tr>\n",
       "      <th>4</th>\n",
       "      <td>Tênis Polo Farm 921 Masculino - 1</td>\n",
       "      <td>Tênis Polo Farm 921 Masculino - 2</td>\n",
       "      <td>1.000000</td>\n",
       "    </tr>\n",
       "    <tr>\n",
       "      <th>...</th>\n",
       "      <td>...</td>\n",
       "      <td>...</td>\n",
       "      <td>...</td>\n",
       "    </tr>\n",
       "    <tr>\n",
       "      <th>866394</th>\n",
       "      <td>Tênis Infantil Klin Masculino Walk Marinho Ver...</td>\n",
       "      <td>Tênis Infantil Masculino Kidy 008-0499 Marinho</td>\n",
       "      <td>0.500002</td>\n",
       "    </tr>\n",
       "    <tr>\n",
       "      <th>866395</th>\n",
       "      <td>Chinelo New Balance Wsd130pk Casual Rosa Feminino</td>\n",
       "      <td>Tênis New Balance 574 Masc Classic Oferta Pron...</td>\n",
       "      <td>0.500001</td>\n",
       "    </tr>\n",
       "    <tr>\n",
       "      <th>866396</th>\n",
       "      <td>Bicicleta Aro 29 Quadro 18 Heiland - Branca - ...</td>\n",
       "      <td>Bicicleta Monark 10 Reformada</td>\n",
       "      <td>0.500001</td>\n",
       "    </tr>\n",
       "    <tr>\n",
       "      <th>866397</th>\n",
       "      <td>Tênis Masculino Em Couro Confortável Casual</td>\n",
       "      <td>Sapatenis Ferracini Masculino Preto Confortave...</td>\n",
       "      <td>0.500001</td>\n",
       "    </tr>\n",
       "    <tr>\n",
       "      <th>866398</th>\n",
       "      <td>Sapatênis Tênis Running Masculino Casual Estil...</td>\n",
       "      <td>Sapatênis Masculino Ranster Casual Em Couro</td>\n",
       "      <td>0.500001</td>\n",
       "    </tr>\n",
       "  </tbody>\n",
       "</table>\n",
       "<p>866399 rows × 3 columns</p>\n",
       "</div>"
      ],
      "text/plain": [
       "                                                  title_1  \\\n",
       "0                      Tenis Feminino Olympikus Sunna/769   \n",
       "1          Tênis On Running Cloud Preto/ Branco Masculino   \n",
       "2       Tênis Olympikus Proof 2  Preto/chumbo Caminhad...   \n",
       "3                                         Tenis Hugo Boss   \n",
       "4                       Tênis Polo Farm 921 Masculino - 1   \n",
       "...                                                   ...   \n",
       "866394  Tênis Infantil Klin Masculino Walk Marinho Ver...   \n",
       "866395  Chinelo New Balance Wsd130pk Casual Rosa Feminino   \n",
       "866396  Bicicleta Aro 29 Quadro 18 Heiland - Branca - ...   \n",
       "866397       Tênis Masculino Em Couro Confortável Casual    \n",
       "866398  Sapatênis Tênis Running Masculino Casual Estil...   \n",
       "\n",
       "                                                  title_2     score  \n",
       "0                      Tênis Olympikus Sunna Feminino 769  1.000000  \n",
       "1         Tênis On Running Cloud Masculino Preto E Branco  1.000000  \n",
       "2       Tênis Masculino Proof 2 Olympikus Preto/chumbo...  1.000000  \n",
       "3                     Tenis Valentino Garavani Rockrunner  1.000000  \n",
       "4                       Tênis Polo Farm 921 Masculino - 2  1.000000  \n",
       "...                                                   ...       ...  \n",
       "866394     Tênis Infantil Masculino Kidy 008-0499 Marinho  0.500002  \n",
       "866395  Tênis New Balance 574 Masc Classic Oferta Pron...  0.500001  \n",
       "866396                      Bicicleta Monark 10 Reformada  0.500001  \n",
       "866397  Sapatenis Ferracini Masculino Preto Confortave...  0.500001  \n",
       "866398        Sapatênis Masculino Ranster Casual Em Couro  0.500001  \n",
       "\n",
       "[866399 rows x 3 columns]"
      ]
     },
     "execution_count": 4,
     "metadata": {},
     "output_type": "execute_result"
    }
   ],
   "source": [
    "sim_df.to_csv('similitud.csv', sep=';')\n",
    "sim_df"
   ]
  },
  {
   "cell_type": "markdown",
   "metadata": {},
   "source": [
    "---------\n",
    "--------"
   ]
  },
  {
   "cell_type": "markdown",
   "metadata": {},
   "source": [
    "## 💡 Informe de Similitud de Textos\n",
    "\n",
    "### Visión General del Conjunto\n",
    "\n",
    "* **Total de títulos procesados:** 10 000\n",
    "\n",
    "### Duración del Proceso\n",
    "\n",
    "* **Tiempo total del pipeline:** 54,79 segundos\n",
    "\n",
    "### Hallazgos Principales\n",
    "\n",
    "* **Cantidad de pares con similitud ≥ 0,5:** 866 399\n",
    "\n",
    "### Puntos Destacados\n",
    "\n",
    "* El análisis se ejecutó en bloques de 500 títulos, lo que permitió un uso eficiente de la memoria y completó todas las comparaciones en menos de un minuto.\n",
    "* Al aplicar un **umbral mínimo de similitud de 0,5**, se descartaron comparaciones poco relevantes, reduciendo el universo de análisis de cerca de 50 millones de pares posibles a menos de 900 000.\n",
    "* El uso combinado de **Truncated SVD** para reducción de dimensionalidad y el procesamiento por lotes ayudó a mitigar —aunque no a eliminar completamente— el crecimiento casi cuadrático del número de comparaciones al aumentar el tamaño del conjunto.\n",
    "\n",
    "### Recomendaciones\n",
    "\n",
    "* Para datasets de hasta decenas de miles de registros, esta estrategia es eficaz y suficientemente ágil.\n",
    "* En contextos con más de 100 000 títulos, se recomienda aplicar técnicas de paralelización más intensiva o utilizar soluciones de búsqueda de vecinos aproximados (como **FAISS** o **Annoy**) para mantener tiempos de ejecución razonables.\n",
    "\n",
    "---------\n",
    "------------\n"
   ]
  }
 ],
 "metadata": {
  "kernelspec": {
   "display_name": "Python (mercadolibre)",
   "language": "python",
   "name": "mercadolibre"
  },
  "language_info": {
   "codemirror_mode": {
    "name": "ipython",
    "version": 3
   },
   "file_extension": ".py",
   "mimetype": "text/x-python",
   "name": "python",
   "nbconvert_exporter": "python",
   "pygments_lexer": "ipython3",
   "version": "3.11.3"
  }
 },
 "nbformat": 4,
 "nbformat_minor": 2
}
